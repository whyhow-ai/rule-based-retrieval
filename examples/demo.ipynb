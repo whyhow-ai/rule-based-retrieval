{
 "cells": [
  {
   "cell_type": "markdown",
   "metadata": {},
   "source": [
    "## RULE BASED RETRIEVAL "
   ]
  },
  {
   "cell_type": "markdown",
   "metadata": {},
   "source": [
    "### aka why won't my LLM do what I tell it to when I tell it to "
   ]
  },
  {
   "cell_type": "markdown",
   "metadata": {},
   "source": [
    "### SETUP"
   ]
  },
  {
   "cell_type": "code",
   "execution_count": 1,
   "metadata": {},
   "outputs": [
    {
     "name": "stderr",
     "output_type": "stream",
     "text": [
      "/Users/tomsmoker/Projects/whyhow/rule-based-retrieval/venv/lib/python3.10/site-packages/pinecone/data/index.py:1: TqdmWarning: IProgress not found. Please update jupyter and ipywidgets. See https://ipywidgets.readthedocs.io/en/stable/user_install.html\n",
      "  from tqdm.autonotebook import tqdm\n"
     ]
    }
   ],
   "source": [
    "import logging\n",
    "\n",
    "from pinecone import PodSpec\n",
    "\n",
    "from whyhow_rbr import Client, Rule, IndexNotFoundException"
   ]
  },
  {
   "cell_type": "code",
   "execution_count": 2,
   "metadata": {},
   "outputs": [],
   "source": [
    "# Configure parameters\n",
    "index_name = \"whyhow-demo\"\n",
    "namespace = \"BC-CS688\"\n",
    "pdfs = [\"../data/full_book_one.pdf\"]"
   ]
  },
  {
   "cell_type": "code",
   "execution_count": 3,
   "metadata": {},
   "outputs": [],
   "source": [
    "# Logging\n",
    "logging_level = logging.INFO\n",
    "\n",
    "logging.basicConfig(\n",
    "    level=logging.WARNING,\n",
    "    format=\"%(asctime)s - %(levelname)s - %(name)s - %(message)s\",\n",
    ")\n",
    "logger = logging.getLogger(\"create_index\")\n",
    "logger.setLevel(logging_level)"
   ]
  },
  {
   "cell_type": "code",
   "execution_count": 4,
   "metadata": {},
   "outputs": [],
   "source": [
    "# Initialize client\n",
    "client = Client()"
   ]
  },
  {
   "cell_type": "code",
   "execution_count": 5,
   "metadata": {},
   "outputs": [
    {
     "name": "stderr",
     "output_type": "stream",
     "text": [
      "2024-04-01 16:10:36,135 - INFO - create_index - Index whyhow-demo already exists, reusing it\n"
     ]
    }
   ],
   "source": [
    "try:\n",
    "    index = client.get_index(index_name)\n",
    "    logger.info(f\"Index {index_name} already exists, reusing it\")\n",
    "except IndexNotFoundException:\n",
    "    spec = PodSpec(environment=\"gcp-starter\")\n",
    "    index = client.create_index(index_name, spec=spec)\n",
    "    logger.info(f\"Index {index_name} created\")"
   ]
  },
  {
   "cell_type": "code",
   "execution_count": 6,
   "metadata": {},
   "outputs": [
    {
     "name": "stderr",
     "output_type": "stream",
     "text": [
      "Upserted vectors: 100%|██████████| 1156/1156 [00:08<00:00, 133.76it/s]\n"
     ]
    }
   ],
   "source": [
    "# Upload, split, chunk, and vectorize documents in Pinecone\n",
    "client.upload_documents(index=index, documents=pdfs, namespace=namespace)"
   ]
  },
  {
   "cell_type": "markdown",
   "metadata": {},
   "source": [
    "### RULES"
   ]
  },
  {
   "cell_type": "code",
   "execution_count": 29,
   "metadata": {},
   "outputs": [],
   "source": [
    "rules = [\n",
    "    Rule(\n",
    "        # Replace with your filename\n",
    "        filename=\"full_book_one.pdf\",\n",
    "        page_numbers=[40],\n",
    "        keywords=['friends']\n",
    "    ),\n",
    "    Rule(\n",
    "        # Replace with your filename\n",
    "        filename=\"doc2.pdf\",\n",
    "        page_numbers=[2],\n",
    "        keywords=[],\n",
    "    )\n",
    "]"
   ]
  },
  {
   "cell_type": "code",
   "execution_count": 35,
   "metadata": {},
   "outputs": [],
   "source": [
    "question = \"Who does Harry know? Like who are his friends?\"\n",
    "top_k = 5"
   ]
  },
  {
   "cell_type": "code",
   "execution_count": 36,
   "metadata": {},
   "outputs": [],
   "source": [
    "result = client.query(\n",
    "    question=question,\n",
    "    index=index,\n",
    "    namespace=namespace,\n",
    "    rules=rules,\n",
    "    top_k=top_k,\n",
    "    process_rules_separately=False,\n",
    "    keyword_trigger=False\n",
    ")"
   ]
  },
  {
   "cell_type": "code",
   "execution_count": 37,
   "metadata": {},
   "outputs": [
    {
     "name": "stderr",
     "output_type": "stream",
     "text": [
      "2024-04-01 16:18:22,626 - INFO - create_index - Answer: I don't have the context documents to answer who Harry's friends are. Please provide the relevant context or specify which Harry you are referring to.\n"
     ]
    }
   ],
   "source": [
    "answer = result[\"answer\"]\n",
    "\n",
    "logger.info(f\"Answer: {answer}\")"
   ]
  },
  {
   "cell_type": "markdown",
   "metadata": {},
   "source": [
    "### WHAT IF I WANT IT TO FIND KEYWORDS "
   ]
  },
  {
   "cell_type": "code",
   "execution_count": 38,
   "metadata": {},
   "outputs": [],
   "source": [
    "question = \"What does Harry Potter like to eat?\""
   ]
  },
  {
   "cell_type": "code",
   "execution_count": 39,
   "metadata": {},
   "outputs": [],
   "source": [
    "rule = Rule(\n",
    "    filename=\"../data/full_book_one.pdf\",\n",
    "    page_numbers=[15, 30, 45],\n",
    "    keywords=[\"food\", \"favorite\"]\n",
    ")"
   ]
  },
  {
   "cell_type": "code",
   "execution_count": 40,
   "metadata": {},
   "outputs": [
    {
     "name": "stdout",
     "output_type": "stream",
     "text": [
      "Harry Potter likes to eat roast beef, roast chicken, pork chops, lamb chops, sausages, bacon, steak, boiled potatoes, roast potatoes, chips, Yorkshire pudding, peas, carrots, gravy, ketchup, chocolate éclairs, jam doughnuts, trifle, strawberries, jelly, rice pudding, treacle tart, and Bertie Bott's Every-Flavour Beans, but not mint humbugs.\n",
      "[{'id': '../data/full_book_one.pdf-85-1', 'score': 0.6526559, 'metadata': {'text': 'piled with food. He had never seen so many things he liked to eat on one table: roast beef, roast chicken, pork chops and lamb chops, sausages, bacon and steak, boiled potatoes, roast potatoes, chips, Yorkshire pudding, peas, carrots, gravy , ketchup and, for some strange reason, mint humbugs. The Dursleys had never exactly starved Harry , but he’d never been allowed to eat as much as he liked. Dudley had always taken anything that Harry really wanted, even if it made him sick. Harry', 'page_number': 85, 'chunk_number': 1, 'filename': '../data/full_book_one.pdf', 'uuid': '5361d3da-7ea6-457c-80d4-54f599976ffe'}}, {'id': '../data/full_book_one.pdf-85-2', 'score': 0.599429369, 'metadata': {'text': 'anything that Harry really wanted, even if it made him sick. Harry piled his plate with a bit of everything except the humbugs and began to eat. It was all delicious. ‘That does look good,’ said the ghost in the ruff sadly , watching Harry cut up his steak. ‘Can’t you –?’ ‘I haven’t eaten for nearly five hundred years,’ said the ghost. ‘I don’t need to, of course, but one does miss it. I don’t think I’ve introduced myself? Sir Nicholas de Mimsy-Porpington at your', 'page_number': 85, 'chunk_number': 2, 'filename': '../data/full_book_one.pdf', 'uuid': 'e90dff94-e1f5-4d02-9cbb-8d2474cd44b0'}}, {'id': '../data/full_book_one.pdf-86-2', 'score': 0.585694432, 'metadata': {'text': 'chocolate éclairs and jam doughnuts,  trifle, strawberries, jelly , rice pudding ... As Harry helped himself to a treacle tart, the talk turned to their families. ‘I’m half and half,’ said Seamus. ‘Me dad’s a Muggle. Mam didn’t tell him she was a witch ’til after they were married. Bit of a nasty shock for him.’ The others laughed. ‘What about you, Neville?’ said Ron. ‘Well, my gran brought me up and she’s a witch,’ said Neville, ‘but the family thought I was all Muggle for ages. My great-uncle', 'page_number': 86, 'chunk_number': 2, 'filename': '../data/full_book_one.pdf', 'uuid': '56c894ab-3d76-4e5c-a8bf-c5eba50d4e3c'}}, {'id': '../data/full_book_one.pdf-71-0', 'score': 0.58425, 'metadata': {'text': '78 H ARRY  POTTER    eating the frogs than looking at the Famous Witches and Wizards cards, but Harry couldn’t keep his eyes off them. Soon he had not only Dumbledore and Morgana, but Hengist of Woodcraft, Alberic Grunnion, Circe, Paracelsus and Merlin. He finally tore his eyes away from the druidess Cliodna, who was scratching her nose, to open a bag of Bertie Bott’s Every-Flavour Beans. ‘You want to be careful with those,’ Ron warned Harry . ‘When', 'page_number': 71, 'chunk_number': 0, 'filename': '../data/full_book_one.pdf', 'uuid': '81533a65-f364-46ce-ac84-8624d4e55c83'}}, {'id': '../data/full_book_one.pdf-85-0', 'score': 0.575736284, 'metadata': {'text': '92 H ARRY  POTTER    here they are: Nitwit! Blubber! Oddment! T weak! ‘Thank you!’ He sat back down. Everybody clapped and cheered. Harry didn’t know whether to laugh or not. ‘Is he – a bit mad?’ he asked Percy uncertainly . ‘Mad?’ said Percy airily . ‘He’s a genius! Best wizard in the world! But he is a bit mad, yes. Potatoes, Harry?’ Harry’s mouth fell open. The dishes in front of him were now piled with food. He had never seen so many things he liked to eat', 'page_number': 85, 'chunk_number': 0, 'filename': '../data/full_book_one.pdf', 'uuid': '0087d8d3-2e7e-4a0d-ba33-fe9bf4d73161'}}]\n",
      "[0, 1, 2, 3, 4]\n"
     ]
    }
   ],
   "source": [
    "result = client.query(\n",
    "    question=question,\n",
    "    index=index,\n",
    "    namespace=namespace,\n",
    "    rules=[rule],\n",
    "    keyword_trigger=True\n",
    ")\n",
    "\n",
    "print(result[\"answer\"])\n",
    "print(result[\"matches\"])\n",
    "print(result[\"used_contexts\"])"
   ]
  },
  {
   "cell_type": "markdown",
   "metadata": {},
   "source": [
    "### WHAT IF WE WANT IT TO RUN EACH RULE IN A ROW"
   ]
  },
  {
   "cell_type": "code",
   "execution_count": 41,
   "metadata": {},
   "outputs": [],
   "source": [
    "question = \"What is Harry Potter's favorite food?\""
   ]
  },
  {
   "cell_type": "code",
   "execution_count": 43,
   "metadata": {},
   "outputs": [],
   "source": [
    "rule_1 = Rule(\n",
    "    filename=\"data/full_book_one.pdf\",\n",
    "    page_numbers=[120, 121, 150]\n",
    ")\n",
    "\n",
    "rule_2 = Rule(\n",
    "    filename=\"data/full_book_one.pdf\",\n",
    "    page_numbers=[80, 81, 82]\n",
    ")\n",
    "\n",
    "result = client.query(\n",
    "    question=question,\n",
    "    index=index,\n",
    "    namespace=namespace,\n",
    "    rules=[rule_1, rule_2],\n",
    "    process_rules_separately=True\n",
    ")"
   ]
  },
  {
   "cell_type": "code",
   "execution_count": null,
   "metadata": {},
   "outputs": [],
   "source": []
  }
 ],
 "metadata": {
  "kernelspec": {
   "display_name": "venv",
   "language": "python",
   "name": "python3"
  },
  "language_info": {
   "codemirror_mode": {
    "name": "ipython",
    "version": 3
   },
   "file_extension": ".py",
   "mimetype": "text/x-python",
   "name": "python",
   "nbconvert_exporter": "python",
   "pygments_lexer": "ipython3",
   "version": "3.10.13"
  }
 },
 "nbformat": 4,
 "nbformat_minor": 2
}
