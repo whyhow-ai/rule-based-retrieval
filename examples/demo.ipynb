{
 "cells": [
  {
   "cell_type": "markdown",
   "metadata": {},
   "source": [
    "## RULE BASED RETRIEVAL "
   ]
  },
  {
   "cell_type": "markdown",
   "metadata": {},
   "source": [
    "### aka why won't my LLM do what I tell it to when I tell it to "
   ]
  },
  {
   "cell_type": "markdown",
   "metadata": {},
   "source": [
    "### SETUP"
   ]
  },
  {
   "cell_type": "code",
   "execution_count": 1,
   "metadata": {},
   "source": [
    "import logging\n",
    "\n",
    "from pinecone import PodSpec\n",
    "\n",
    "from whyhow_rbr import Client, Rule, IndexNotFoundException"
   ],
   "outputs": []
  },
  {
   "cell_type": "code",
   "execution_count": 2,
   "metadata": {},
   "source": [
    "# Configure parameters\n",
    "index_name = \"whyhow-demo\"\n",
    "namespace = \"BC-CS688\"\n",
    "pdfs = [\"../data/full_book_one.pdf\"]"
   ],
   "outputs": []
  },
  {
   "cell_type": "code",
   "execution_count": 3,
   "metadata": {},
   "source": [
    "# Logging\n",
    "logging_level = logging.INFO\n",
    "\n",
    "logging.basicConfig(\n",
    "    level=logging.WARNING,\n",
    "    format=\"%(asctime)s - %(levelname)s - %(name)s - %(message)s\",\n",
    ")\n",
    "logger = logging.getLogger(\"create_index\")\n",
    "logger.setLevel(logging_level)"
   ],
   "outputs": []
  },
  {
   "cell_type": "code",
   "execution_count": 4,
   "metadata": {},
   "source": [
    "# Initialize client\n",
    "client = Client()"
   ],
   "outputs": []
  },
  {
   "cell_type": "code",
   "execution_count": 5,
   "metadata": {},
   "source": [
    "try:\n",
    "    index = client.get_index(index_name)\n",
    "    logger.info(f\"Index {index_name} already exists, reusing it\")\n",
    "except IndexNotFoundException:\n",
    "    spec = PodSpec(environment=\"gcp-starter\")\n",
    "    index = client.create_index(index_name, spec=spec)\n",
    "    logger.info(f\"Index {index_name} created\")"
   ],
   "outputs": []
  },
  {
   "cell_type": "code",
   "execution_count": 6,
   "metadata": {},
   "source": [
    "# Upload, split, chunk, and vectorize documents in Pinecone\n",
    "client.upload_documents(index=index, documents=pdfs, namespace=namespace)"
   ],
   "outputs": []
  },
  {
   "cell_type": "markdown",
   "metadata": {},
   "source": [
    "### RULES"
   ]
  },
  {
   "cell_type": "code",
   "execution_count": 29,
   "metadata": {},
   "source": [
    "rules = [\n",
    "    Rule(\n",
    "        # Replace with your filename\n",
    "        filename=\"full_book_one.pdf\",\n",
    "        page_numbers=[40],\n",
    "        keywords=['friends']\n",
    "    ),\n",
    "    Rule(\n",
    "        # Replace with your filename\n",
    "        filename=\"doc2.pdf\",\n",
    "        page_numbers=[2],\n",
    "        keywords=[],\n",
    "    )\n",
    "]"
   ],
   "outputs": []
  },
  {
   "cell_type": "code",
   "execution_count": 35,
   "metadata": {},
   "source": [
    "question = \"Who does Harry know? Like who are his friends?\"\n",
    "top_k = 5"
   ],
   "outputs": []
  },
  {
   "cell_type": "code",
   "execution_count": 36,
   "metadata": {},
   "source": [
    "result = client.query(\n",
    "    question=question,\n",
    "    index=index,\n",
    "    namespace=namespace,\n",
    "    rules=rules,\n",
    "    top_k=top_k,\n",
    "    process_rules_separately=False,\n",
    "    keyword_trigger=False\n",
    ")"
   ],
   "outputs": []
  },
  {
   "cell_type": "code",
   "execution_count": 37,
   "metadata": {},
   "source": [
    "answer = result[\"answer\"]\n",
    "\n",
    "logger.info(f\"Answer: {answer}\")"
   ],
   "outputs": []
  },
  {
   "cell_type": "markdown",
   "metadata": {},
   "source": [
    "### WHAT IF I WANT IT TO FIND KEYWORDS "
   ]
  },
  {
   "cell_type": "code",
   "execution_count": 38,
   "metadata": {},
   "source": [
    "question = \"What does Harry Potter like to eat?\""
   ],
   "outputs": []
  },
  {
   "cell_type": "code",
   "execution_count": 39,
   "metadata": {},
   "source": [
    "rule = Rule(\n",
    "    filename=\"../data/full_book_one.pdf\",\n",
    "    page_numbers=[15, 30, 45],\n",
    "    keywords=[\"food\", \"favorite\"]\n",
    ")"
   ],
   "outputs": []
  },
  {
   "cell_type": "code",
   "execution_count": 40,
   "metadata": {},
   "source": [
    "result = client.query(\n",
    "    question=question,\n",
    "    index=index,\n",
    "    namespace=namespace,\n",
    "    rules=[rule],\n",
    "    keyword_trigger=True\n",
    ")\n",
    "\n",
    "print(result[\"answer\"])\n",
    "print(result[\"matches\"])\n",
    "print(result[\"used_contexts\"])"
   ],
   "outputs": []
  },
  {
   "cell_type": "markdown",
   "metadata": {},
   "source": [
    "### WHAT IF WE WANT IT TO RUN EACH RULE IN A ROW"
   ]
  },
  {
   "cell_type": "code",
   "execution_count": 41,
   "metadata": {},
   "source": [
    "question = \"What is Harry Potter's favorite food?\""
   ],
   "outputs": []
  },
  {
   "cell_type": "code",
   "execution_count": 43,
   "metadata": {},
   "source": [
    "rule_1 = Rule(\n",
    "    filename=\"data/full_book_one.pdf\",\n",
    "    page_numbers=[120, 121, 150]\n",
    ")\n",
    "\n",
    "rule_2 = Rule(\n",
    "    filename=\"data/full_book_one.pdf\",\n",
    "    page_numbers=[80, 81, 82]\n",
    ")\n",
    "\n",
    "result = client.query(\n",
    "    question=question,\n",
    "    index=index,\n",
    "    namespace=namespace,\n",
    "    rules=[rule_1, rule_2],\n",
    "    process_rules_separately=True\n",
    ")"
   ],
   "outputs": []
  },
  {
   "cell_type": "code",
   "execution_count": null,
   "metadata": {},
   "source": [],
   "outputs": []
  }
 ],
 "metadata": {
  "kernelspec": {
   "display_name": "venv",
   "language": "python",
   "name": "python3"
  },
  "language_info": {
   "codemirror_mode": {
    "name": "ipython",
    "version": 3
   },
   "file_extension": ".py",
   "mimetype": "text/x-python",
   "name": "python",
   "nbconvert_exporter": "python",
   "pygments_lexer": "ipython3",
   "version": "3.10.13"
  }
 },
 "nbformat": 4,
 "nbformat_minor": 2
}
